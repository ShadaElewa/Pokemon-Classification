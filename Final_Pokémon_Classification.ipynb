{
  "metadata": {
    "kernelspec": {
      "language": "python",
      "display_name": "Python 3",
      "name": "python3"
    },
    "language_info": {
      "name": "python",
      "version": "3.7.6",
      "mimetype": "text/x-python",
      "codemirror_mode": {
        "name": "ipython",
        "version": 3
      },
      "pygments_lexer": "ipython3",
      "nbconvert_exporter": "python",
      "file_extension": ".py"
    },
    "kaggle": {
      "accelerator": "none",
      "dataSources": [
        {
          "sourceId": 280,
          "sourceType": "datasetVersion",
          "datasetId": 121
        }
      ],
      "dockerImageVersionId": 30014,
      "isInternetEnabled": true,
      "language": "python",
      "sourceType": "notebook",
      "isGpuEnabled": false
    },
    "colab": {
      "name": "Final Pokémon Classification",
      "provenance": [],
      "include_colab_link": true
    }
  },
  "nbformat_minor": 0,
  "nbformat": 4,
  "cells": [
    {
      "cell_type": "markdown",
      "metadata": {
        "id": "view-in-github",
        "colab_type": "text"
      },
      "source": [
        "<a href=\"https://colab.research.google.com/github/ShadaElewa/Pokemon-Classification/blob/main/Final_Pok%C3%A9mon_Classification.ipynb\" target=\"_parent\"><img src=\"https://colab.research.google.com/assets/colab-badge.svg\" alt=\"Open In Colab\"/></a>"
      ]
    },
    {
      "source": [
        "\n",
        "# IMPORTANT: RUN THIS CELL IN ORDER TO IMPORT YOUR KAGGLE DATA SOURCES\n",
        "# TO THE CORRECT LOCATION (/kaggle/input) IN YOUR NOTEBOOK,\n",
        "# THEN FEEL FREE TO DELETE THIS CELL.\n",
        "# NOTE: THIS NOTEBOOK ENVIRONMENT DIFFERS FROM KAGGLE'S PYTHON\n",
        "# ENVIRONMENT SO THERE MAY BE MISSING LIBRARIES USED BY YOUR\n",
        "# NOTEBOOK.\n",
        "\n",
        "import os\n",
        "import sys\n",
        "from tempfile import NamedTemporaryFile\n",
        "from urllib.request import urlopen\n",
        "from urllib.parse import unquote, urlparse\n",
        "from urllib.error import HTTPError\n",
        "from zipfile import ZipFile\n",
        "import tarfile\n",
        "import shutil\n",
        "\n",
        "CHUNK_SIZE = 40960\n",
        "DATA_SOURCE_MAPPING = 'pokemon:https%3A%2F%2Fstorage.googleapis.com%2Fkaggle-data-sets%2F121%2F280%2Fbundle%2Farchive.zip%3FX-Goog-Algorithm%3DGOOG4-RSA-SHA256%26X-Goog-Credential%3Dgcp-kaggle-com%2540kaggle-161607.iam.gserviceaccount.com%252F20240515%252Fauto%252Fstorage%252Fgoog4_request%26X-Goog-Date%3D20240515T093244Z%26X-Goog-Expires%3D259200%26X-Goog-SignedHeaders%3Dhost%26X-Goog-Signature%3D25dda758a96d556b2cc04ae3fb4636fcf9c13354928a6ad8b2dc067cc2286081accdff918ad3afbf06e73d132a0d70e8eb55654e9e1142031a0da075bfc8b5572f3bb994e2fe0f493dc2940bef9adbfc14342e70b734c4fc36a81d8d55d74d9f48fc8dbb077e32823606bc7fe0347828f3ccc458eb32c267baf0c954fb8ec8e8c63a8646ecc5349c4c8b2e946607bf72e878414b15e8a3f5f30ef60d378803d617b8e8d70f986656f0806683672323f70267d9814adf6e800bd8ef74f93704fe1972d1972f4391d4ef44531f557ad2dcfe4905a6f48a226aa0031d4fa6254fb524d9ae25d9a1e07745443823acd2f45a9e8eaa36ea6b851e966209d4ad4734d5'\n",
        "\n",
        "KAGGLE_INPUT_PATH='/kaggle/input'\n",
        "KAGGLE_WORKING_PATH='/kaggle/working'\n",
        "KAGGLE_SYMLINK='kaggle'\n",
        "\n",
        "!umount /kaggle/input/ 2> /dev/null\n",
        "shutil.rmtree('/kaggle/input', ignore_errors=True)\n",
        "os.makedirs(KAGGLE_INPUT_PATH, 0o777, exist_ok=True)\n",
        "os.makedirs(KAGGLE_WORKING_PATH, 0o777, exist_ok=True)\n",
        "\n",
        "try:\n",
        "  os.symlink(KAGGLE_INPUT_PATH, os.path.join(\"..\", 'input'), target_is_directory=True)\n",
        "except FileExistsError:\n",
        "  pass\n",
        "try:\n",
        "  os.symlink(KAGGLE_WORKING_PATH, os.path.join(\"..\", 'working'), target_is_directory=True)\n",
        "except FileExistsError:\n",
        "  pass\n",
        "\n",
        "for data_source_mapping in DATA_SOURCE_MAPPING.split(','):\n",
        "    directory, download_url_encoded = data_source_mapping.split(':')\n",
        "    download_url = unquote(download_url_encoded)\n",
        "    filename = urlparse(download_url).path\n",
        "    destination_path = os.path.join(KAGGLE_INPUT_PATH, directory)\n",
        "    try:\n",
        "        with urlopen(download_url) as fileres, NamedTemporaryFile() as tfile:\n",
        "            total_length = fileres.headers['content-length']\n",
        "            print(f'Downloading {directory}, {total_length} bytes compressed')\n",
        "            dl = 0\n",
        "            data = fileres.read(CHUNK_SIZE)\n",
        "            while len(data) > 0:\n",
        "                dl += len(data)\n",
        "                tfile.write(data)\n",
        "                done = int(50 * dl / int(total_length))\n",
        "                sys.stdout.write(f\"\\r[{'=' * done}{' ' * (50-done)}] {dl} bytes downloaded\")\n",
        "                sys.stdout.flush()\n",
        "                data = fileres.read(CHUNK_SIZE)\n",
        "            if filename.endswith('.zip'):\n",
        "              with ZipFile(tfile) as zfile:\n",
        "                zfile.extractall(destination_path)\n",
        "            else:\n",
        "              with tarfile.open(tfile.name) as tarfile:\n",
        "                tarfile.extractall(destination_path)\n",
        "            print(f'\\nDownloaded and uncompressed: {directory}')\n",
        "    except HTTPError as e:\n",
        "        print(f'Failed to load (likely expired) {download_url} to path {destination_path}')\n",
        "        continue\n",
        "    except OSError as e:\n",
        "        print(f'Failed to load {download_url} to path {destination_path}')\n",
        "        continue\n",
        "\n",
        "print('Data source import complete.')\n"
      ],
      "metadata": {
        "id": "H0qhXJ1LmP7J"
      },
      "cell_type": "code",
      "outputs": [],
      "execution_count": null
    },
    {
      "cell_type": "markdown",
      "source": [
        "# AI - Final Project\n",
        "### Class 14\n",
        "### Names :\n",
        "Shada Hazem Mohammed - 12200081\n",
        "Sama Mahmoud Abdelbaset - 12200353\n",
        "\n",
        "***\n",
        "\n",
        "## Legendary Pokémon Classification  \n",
        "\n",
        "Given *data about various Pokémon*, let's try to predict if a given Pokémon is **legendary** or not.  \n",
        "  \n",
        "We will use a TensorFlow ANN to make our predictions."
      ],
      "metadata": {
        "id": "EUuZKo0rmP7M"
      }
    },
    {
      "cell_type": "markdown",
      "source": [
        "# Getting Started"
      ],
      "metadata": {
        "id": "NMk2vZq6mP7O"
      }
    },
    {
      "cell_type": "code",
      "source": [
        "import numpy as np\n",
        "import pandas as pd\n",
        "import matplotlib.pyplot as plt\n",
        "import seaborn as sns\n",
        "import plotly.express as px\n",
        "\n",
        "from sklearn.preprocessing import LabelEncoder, StandardScaler\n",
        "from sklearn.model_selection import train_test_split\n",
        "\n",
        "import tensorflow as tf\n",
        "\n",
        "from sklearn.decomposition import PCA"
      ],
      "metadata": {
        "_uuid": "d629ff2d2480ee46fbb7e2d37f6b5fab8052498a",
        "_cell_guid": "79c7e3d0-c299-4dcb-8224-4455121ee9b0",
        "execution": {
          "iopub.status.busy": "2024-05-07T19:11:29.43889Z",
          "iopub.execute_input": "2024-05-07T19:11:29.439359Z",
          "iopub.status.idle": "2024-05-07T19:11:38.937903Z",
          "shell.execute_reply.started": "2024-05-07T19:11:29.439314Z",
          "shell.execute_reply": "2024-05-07T19:11:38.935465Z"
        },
        "trusted": true,
        "id": "or-AJ8n_mP7O"
      },
      "execution_count": null,
      "outputs": []
    },
    {
      "cell_type": "code",
      "source": [
        "data = pd.read_csv('../input/pokemon/Pokemon.csv')"
      ],
      "metadata": {
        "execution": {
          "iopub.status.busy": "2024-05-07T19:11:38.940669Z",
          "iopub.execute_input": "2024-05-07T19:11:38.941271Z",
          "iopub.status.idle": "2024-05-07T19:11:38.978132Z",
          "shell.execute_reply.started": "2024-05-07T19:11:38.941164Z",
          "shell.execute_reply": "2024-05-07T19:11:38.97679Z"
        },
        "trusted": true,
        "id": "V4RIMPhvmP7O"
      },
      "execution_count": null,
      "outputs": []
    },
    {
      "cell_type": "code",
      "source": [
        "data"
      ],
      "metadata": {
        "execution": {
          "iopub.status.busy": "2024-05-07T19:11:38.980141Z",
          "iopub.execute_input": "2024-05-07T19:11:38.980869Z",
          "iopub.status.idle": "2024-05-07T19:11:39.029559Z",
          "shell.execute_reply.started": "2024-05-07T19:11:38.98082Z",
          "shell.execute_reply": "2024-05-07T19:11:39.028018Z"
        },
        "trusted": true,
        "id": "u5kZ3_FJmP7O"
      },
      "execution_count": null,
      "outputs": []
    },
    {
      "cell_type": "code",
      "source": [
        "data_raw = data.copy()"
      ],
      "metadata": {
        "execution": {
          "iopub.status.busy": "2024-05-07T19:11:39.031812Z",
          "iopub.execute_input": "2024-05-07T19:11:39.032258Z",
          "iopub.status.idle": "2024-05-07T19:11:39.039326Z",
          "shell.execute_reply.started": "2024-05-07T19:11:39.032214Z",
          "shell.execute_reply": "2024-05-07T19:11:39.037965Z"
        },
        "trusted": true,
        "id": "VDvLBQFsmP7P"
      },
      "execution_count": null,
      "outputs": []
    },
    {
      "cell_type": "markdown",
      "source": [
        "# Cleaning"
      ],
      "metadata": {
        "id": "EPFY3JI3mP7P"
      }
    },
    {
      "cell_type": "code",
      "source": [
        "data.info()"
      ],
      "metadata": {
        "execution": {
          "iopub.status.busy": "2024-05-07T19:11:39.04461Z",
          "iopub.execute_input": "2024-05-07T19:11:39.045372Z",
          "iopub.status.idle": "2024-05-07T19:11:39.080425Z",
          "shell.execute_reply.started": "2024-05-07T19:11:39.045264Z",
          "shell.execute_reply": "2024-05-07T19:11:39.078833Z"
        },
        "trusted": true,
        "id": "SRswapQsmP7P"
      },
      "execution_count": null,
      "outputs": []
    },
    {
      "cell_type": "code",
      "source": [
        "data.isna().sum()"
      ],
      "metadata": {
        "execution": {
          "iopub.status.busy": "2024-05-07T19:11:39.08444Z",
          "iopub.execute_input": "2024-05-07T19:11:39.085254Z",
          "iopub.status.idle": "2024-05-07T19:11:39.102797Z",
          "shell.execute_reply.started": "2024-05-07T19:11:39.085195Z",
          "shell.execute_reply": "2024-05-07T19:11:39.101248Z"
        },
        "trusted": true,
        "id": "WxmDnulnmP7Q"
      },
      "execution_count": null,
      "outputs": []
    },
    {
      "cell_type": "code",
      "source": [
        "data = data.drop(['#', 'Name', 'Type 2'], axis=1)"
      ],
      "metadata": {
        "execution": {
          "iopub.status.busy": "2024-05-07T19:11:39.105057Z",
          "iopub.execute_input": "2024-05-07T19:11:39.106218Z",
          "iopub.status.idle": "2024-05-07T19:11:39.115339Z",
          "shell.execute_reply.started": "2024-05-07T19:11:39.106032Z",
          "shell.execute_reply": "2024-05-07T19:11:39.113667Z"
        },
        "trusted": true,
        "id": "oOggTAh6mP7Q"
      },
      "execution_count": null,
      "outputs": []
    },
    {
      "cell_type": "code",
      "source": [
        "data['Legendary'] = data['Legendary'].astype(np.int)"
      ],
      "metadata": {
        "execution": {
          "iopub.status.busy": "2024-05-07T19:11:39.117439Z",
          "iopub.execute_input": "2024-05-07T19:11:39.118039Z",
          "iopub.status.idle": "2024-05-07T19:11:39.131881Z",
          "shell.execute_reply.started": "2024-05-07T19:11:39.117992Z",
          "shell.execute_reply": "2024-05-07T19:11:39.130596Z"
        },
        "trusted": true,
        "id": "6_MMso79mP7Q"
      },
      "execution_count": null,
      "outputs": []
    },
    {
      "cell_type": "code",
      "source": [
        "data"
      ],
      "metadata": {
        "execution": {
          "iopub.status.busy": "2024-05-07T19:11:39.133648Z",
          "iopub.execute_input": "2024-05-07T19:11:39.134363Z",
          "iopub.status.idle": "2024-05-07T19:11:39.167812Z",
          "shell.execute_reply.started": "2024-05-07T19:11:39.134312Z",
          "shell.execute_reply": "2024-05-07T19:11:39.166556Z"
        },
        "trusted": true,
        "id": "da0GZm8AmP7Q"
      },
      "execution_count": null,
      "outputs": []
    },
    {
      "cell_type": "markdown",
      "source": [
        "# EDA"
      ],
      "metadata": {
        "id": "bffrUO--mP7Q"
      }
    },
    {
      "cell_type": "code",
      "source": [
        "data['Type 1'].unique()"
      ],
      "metadata": {
        "execution": {
          "iopub.status.busy": "2024-05-07T19:11:39.169494Z",
          "iopub.execute_input": "2024-05-07T19:11:39.169903Z",
          "iopub.status.idle": "2024-05-07T19:11:39.178536Z",
          "shell.execute_reply.started": "2024-05-07T19:11:39.169866Z",
          "shell.execute_reply": "2024-05-07T19:11:39.177223Z"
        },
        "trusted": true,
        "id": "b5IymtvemP7R"
      },
      "execution_count": null,
      "outputs": []
    },
    {
      "cell_type": "code",
      "source": [
        "numeric_columns = data.drop('Type 1', axis=1).columns"
      ],
      "metadata": {
        "execution": {
          "iopub.status.busy": "2024-05-07T19:11:39.180508Z",
          "iopub.execute_input": "2024-05-07T19:11:39.181338Z",
          "iopub.status.idle": "2024-05-07T19:11:39.1906Z",
          "shell.execute_reply.started": "2024-05-07T19:11:39.181274Z",
          "shell.execute_reply": "2024-05-07T19:11:39.188768Z"
        },
        "trusted": true,
        "id": "70Hen0hgmP7R"
      },
      "execution_count": null,
      "outputs": []
    },
    {
      "cell_type": "code",
      "source": [
        "correlation_matrix = data[numeric_columns].corr()\n",
        "\n",
        "plt.figure(figsize=(18, 15))\n",
        "sns.heatmap(correlation_matrix, annot=True, vmin=-1.0, vmax=1.0)\n",
        "plt.show()"
      ],
      "metadata": {
        "execution": {
          "iopub.status.busy": "2024-05-07T19:11:39.192938Z",
          "iopub.execute_input": "2024-05-07T19:11:39.194025Z",
          "iopub.status.idle": "2024-05-07T19:11:39.952005Z",
          "shell.execute_reply.started": "2024-05-07T19:11:39.193961Z",
          "shell.execute_reply": "2024-05-07T19:11:39.950466Z"
        },
        "trusted": true,
        "id": "9G4QAI6fmP7R"
      },
      "execution_count": null,
      "outputs": []
    },
    {
      "cell_type": "code",
      "source": [
        "plt.figure(figsize=(20, 10))\n",
        "for column in ['HP', 'Attack', 'Defense', 'Sp. Atk', 'Sp. Def', 'Speed']:\n",
        "    sns.kdeplot(data[column], shade=True)\n",
        "plt.show()"
      ],
      "metadata": {
        "execution": {
          "iopub.status.busy": "2024-05-07T19:11:39.953959Z",
          "iopub.execute_input": "2024-05-07T19:11:39.954425Z",
          "iopub.status.idle": "2024-05-07T19:11:40.303904Z",
          "shell.execute_reply.started": "2024-05-07T19:11:39.954381Z",
          "shell.execute_reply": "2024-05-07T19:11:40.302872Z"
        },
        "trusted": true,
        "id": "lB1lDp_YmP7R"
      },
      "execution_count": null,
      "outputs": []
    },
    {
      "cell_type": "markdown",
      "source": [
        "# Preprocessing"
      ],
      "metadata": {
        "id": "Ds3wBaAHmP7R"
      }
    },
    {
      "cell_type": "code",
      "source": [
        "data.dtypes"
      ],
      "metadata": {
        "execution": {
          "iopub.status.busy": "2024-05-07T19:11:40.305373Z",
          "iopub.execute_input": "2024-05-07T19:11:40.305945Z",
          "iopub.status.idle": "2024-05-07T19:11:40.315401Z",
          "shell.execute_reply.started": "2024-05-07T19:11:40.305885Z",
          "shell.execute_reply": "2024-05-07T19:11:40.31406Z"
        },
        "trusted": true,
        "id": "j7fKkFlWmP7R"
      },
      "execution_count": null,
      "outputs": []
    },
    {
      "cell_type": "markdown",
      "source": [
        "## Encoding"
      ],
      "metadata": {
        "id": "QtQbmlYJmP7R"
      }
    },
    {
      "cell_type": "code",
      "source": [
        "def onehot_encode(df, column, prefix):\n",
        "    df = df.copy()\n",
        "    dummies = pd.get_dummies(df[column], prefix=prefix)\n",
        "    df = pd.concat([df, dummies], axis=1)\n",
        "    df = df.drop(column, axis=1)\n",
        "    return df"
      ],
      "metadata": {
        "execution": {
          "iopub.status.busy": "2024-05-07T19:11:40.317308Z",
          "iopub.execute_input": "2024-05-07T19:11:40.317797Z",
          "iopub.status.idle": "2024-05-07T19:11:40.326979Z",
          "shell.execute_reply.started": "2024-05-07T19:11:40.31774Z",
          "shell.execute_reply": "2024-05-07T19:11:40.325456Z"
        },
        "trusted": true,
        "id": "fGisyw6umP7R"
      },
      "execution_count": null,
      "outputs": []
    },
    {
      "cell_type": "code",
      "source": [
        "data = onehot_encode(data, 'Type 1', 't')"
      ],
      "metadata": {
        "execution": {
          "iopub.status.busy": "2024-05-07T19:11:40.328476Z",
          "iopub.execute_input": "2024-05-07T19:11:40.328803Z",
          "iopub.status.idle": "2024-05-07T19:11:40.343369Z",
          "shell.execute_reply.started": "2024-05-07T19:11:40.328772Z",
          "shell.execute_reply": "2024-05-07T19:11:40.341793Z"
        },
        "trusted": true,
        "id": "SKKorzs0mP7R"
      },
      "execution_count": null,
      "outputs": []
    },
    {
      "cell_type": "code",
      "source": [
        "data"
      ],
      "metadata": {
        "execution": {
          "iopub.status.busy": "2024-05-07T19:11:40.34599Z",
          "iopub.execute_input": "2024-05-07T19:11:40.346439Z",
          "iopub.status.idle": "2024-05-07T19:11:40.381482Z",
          "shell.execute_reply.started": "2024-05-07T19:11:40.346399Z",
          "shell.execute_reply": "2024-05-07T19:11:40.380161Z"
        },
        "trusted": true,
        "id": "FGauqdCqmP7R"
      },
      "execution_count": null,
      "outputs": []
    },
    {
      "cell_type": "markdown",
      "source": [
        "## Splitting and Scaling"
      ],
      "metadata": {
        "id": "F4Sb10CwmP7S"
      }
    },
    {
      "cell_type": "code",
      "source": [
        "y = data['Legendary']\n",
        "X = data.drop('Legendary', axis=1)"
      ],
      "metadata": {
        "execution": {
          "iopub.status.busy": "2024-05-07T19:11:40.383207Z",
          "iopub.execute_input": "2024-05-07T19:11:40.383586Z",
          "iopub.status.idle": "2024-05-07T19:11:40.390606Z",
          "shell.execute_reply.started": "2024-05-07T19:11:40.383544Z",
          "shell.execute_reply": "2024-05-07T19:11:40.389278Z"
        },
        "trusted": true,
        "id": "6xlSQQ5KmP7S"
      },
      "execution_count": null,
      "outputs": []
    },
    {
      "cell_type": "code",
      "source": [
        "scaler = StandardScaler()\n",
        "\n",
        "X = scaler.fit_transform(X)"
      ],
      "metadata": {
        "execution": {
          "iopub.status.busy": "2024-05-07T19:11:40.392355Z",
          "iopub.execute_input": "2024-05-07T19:11:40.392815Z",
          "iopub.status.idle": "2024-05-07T19:11:40.409596Z",
          "shell.execute_reply.started": "2024-05-07T19:11:40.392766Z",
          "shell.execute_reply": "2024-05-07T19:11:40.408205Z"
        },
        "trusted": true,
        "id": "MbjKa56TmP7S"
      },
      "execution_count": null,
      "outputs": []
    },
    {
      "cell_type": "code",
      "source": [
        "X_train, X_test, y_train, y_test = train_test_split(X, y, train_size=0.7, random_state=42)"
      ],
      "metadata": {
        "execution": {
          "iopub.status.busy": "2024-05-07T19:11:40.412006Z",
          "iopub.execute_input": "2024-05-07T19:11:40.412484Z",
          "iopub.status.idle": "2024-05-07T19:11:40.420911Z",
          "shell.execute_reply.started": "2024-05-07T19:11:40.412443Z",
          "shell.execute_reply": "2024-05-07T19:11:40.419574Z"
        },
        "trusted": true,
        "id": "OgaobAOYmP7S"
      },
      "execution_count": null,
      "outputs": []
    },
    {
      "cell_type": "markdown",
      "source": [
        "# Training"
      ],
      "metadata": {
        "id": "P_KrozivmP7S"
      }
    },
    {
      "cell_type": "code",
      "source": [
        "X.shape"
      ],
      "metadata": {
        "execution": {
          "iopub.status.busy": "2024-05-07T19:11:40.422442Z",
          "iopub.execute_input": "2024-05-07T19:11:40.422798Z",
          "iopub.status.idle": "2024-05-07T19:11:40.435818Z",
          "shell.execute_reply.started": "2024-05-07T19:11:40.422764Z",
          "shell.execute_reply": "2024-05-07T19:11:40.434337Z"
        },
        "trusted": true,
        "id": "2lHGsa2FmP7S"
      },
      "execution_count": null,
      "outputs": []
    },
    {
      "cell_type": "code",
      "source": [
        "inputs = tf.keras.Input(shape=(26,))\n",
        "x = tf.keras.layers.Dense(64, activation='relu')(inputs)\n",
        "x = tf.keras.layers.Dense(64, activation='relu')(x)\n",
        "outputs = tf.keras.layers.Dense(1, activation='sigmoid')(x)\n",
        "\n",
        "model = tf.keras.Model(inputs=inputs, outputs=outputs)\n",
        "\n",
        "\n",
        "model.compile(\n",
        "    optimizer='adam',\n",
        "    loss='binary_crossentropy',\n",
        "    metrics=[\n",
        "        'accuracy',\n",
        "        tf.keras.metrics.AUC(name='auc')\n",
        "    ]\n",
        ")\n",
        "\n",
        "\n",
        "batch_size = 32\n",
        "epochs = 20\n",
        "\n",
        "history = model.fit(\n",
        "    X_train,\n",
        "    y_train,\n",
        "    validation_split=0.2,\n",
        "    batch_size=batch_size,\n",
        "    epochs=epochs,\n",
        "    callbacks=[tf.keras.callbacks.ReduceLROnPlateau()],\n",
        "    verbose=0\n",
        ")"
      ],
      "metadata": {
        "execution": {
          "iopub.status.busy": "2024-05-07T19:11:40.437794Z",
          "iopub.execute_input": "2024-05-07T19:11:40.438213Z",
          "iopub.status.idle": "2024-05-07T19:11:43.059285Z",
          "shell.execute_reply.started": "2024-05-07T19:11:40.438172Z",
          "shell.execute_reply": "2024-05-07T19:11:43.058281Z"
        },
        "trusted": true,
        "id": "rjVFu6PMmP7S"
      },
      "execution_count": null,
      "outputs": []
    },
    {
      "cell_type": "markdown",
      "source": [
        "# Results"
      ],
      "metadata": {
        "id": "qcA3GXB6mP7S"
      }
    },
    {
      "cell_type": "code",
      "source": [
        "fig_loss = px.line(\n",
        "    history.history,\n",
        "    y=['loss', 'val_loss'],\n",
        "    labels={'x': \"Epoch\", 'y':\"Loss\"},\n",
        "    title=\"Loss Over Time\"\n",
        ")\n",
        "\n",
        "fig_loss.show()"
      ],
      "metadata": {
        "execution": {
          "iopub.status.busy": "2024-05-07T19:11:43.061279Z",
          "iopub.execute_input": "2024-05-07T19:11:43.061649Z",
          "iopub.status.idle": "2024-05-07T19:11:44.302501Z",
          "shell.execute_reply.started": "2024-05-07T19:11:43.061616Z",
          "shell.execute_reply": "2024-05-07T19:11:44.301376Z"
        },
        "trusted": true,
        "id": "l-SiFZUjmP7S"
      },
      "execution_count": null,
      "outputs": []
    },
    {
      "cell_type": "code",
      "source": [
        "np.argmin(history.history['val_loss'])"
      ],
      "metadata": {
        "execution": {
          "iopub.status.busy": "2024-05-07T19:11:44.304227Z",
          "iopub.execute_input": "2024-05-07T19:11:44.304716Z",
          "iopub.status.idle": "2024-05-07T19:11:44.319981Z",
          "shell.execute_reply.started": "2024-05-07T19:11:44.304673Z",
          "shell.execute_reply": "2024-05-07T19:11:44.318469Z"
        },
        "trusted": true,
        "id": "hqc2JDIsmP7T"
      },
      "execution_count": null,
      "outputs": []
    },
    {
      "cell_type": "code",
      "source": [
        "fig_auc = px.line(\n",
        "    history.history,\n",
        "    y=['auc', 'val_auc'],\n",
        "    labels={'x': \"Epoch\", 'y':\"AUC\"},\n",
        "    title=\"AUC Over Time\"\n",
        ")\n",
        "\n",
        "fig_auc.show()"
      ],
      "metadata": {
        "execution": {
          "iopub.status.busy": "2024-05-07T19:11:44.321999Z",
          "iopub.execute_input": "2024-05-07T19:11:44.322562Z",
          "iopub.status.idle": "2024-05-07T19:11:44.417531Z",
          "shell.execute_reply.started": "2024-05-07T19:11:44.322507Z",
          "shell.execute_reply": "2024-05-07T19:11:44.41631Z"
        },
        "trusted": true,
        "id": "T4vC8wrcmP7T"
      },
      "execution_count": null,
      "outputs": []
    },
    {
      "cell_type": "code",
      "source": [
        "model.evaluate(X_test, y_test)"
      ],
      "metadata": {
        "execution": {
          "iopub.status.busy": "2024-05-07T19:11:44.419205Z",
          "iopub.execute_input": "2024-05-07T19:11:44.419607Z",
          "iopub.status.idle": "2024-05-07T19:11:44.504845Z",
          "shell.execute_reply.started": "2024-05-07T19:11:44.419572Z",
          "shell.execute_reply": "2024-05-07T19:11:44.503305Z"
        },
        "trusted": true,
        "id": "vCuPdMjzmP7T"
      },
      "execution_count": null,
      "outputs": []
    },
    {
      "cell_type": "markdown",
      "source": [
        "# Post-Training Analysis"
      ],
      "metadata": {
        "id": "tOVRNee-mP7T"
      }
    },
    {
      "cell_type": "code",
      "source": [
        "predictions = np.hstack((model.predict(X_test) >= 0.5).astype(np.int)) != y_test\n",
        "predictions"
      ],
      "metadata": {
        "execution": {
          "iopub.status.busy": "2024-05-07T19:11:44.506558Z",
          "iopub.execute_input": "2024-05-07T19:11:44.506913Z",
          "iopub.status.idle": "2024-05-07T19:11:44.676093Z",
          "shell.execute_reply.started": "2024-05-07T19:11:44.506881Z",
          "shell.execute_reply": "2024-05-07T19:11:44.67489Z"
        },
        "trusted": true,
        "id": "Y7gNdTrCmP7T"
      },
      "execution_count": null,
      "outputs": []
    },
    {
      "cell_type": "code",
      "source": [
        "mislabeled_indices = y_test[predictions].index"
      ],
      "metadata": {
        "execution": {
          "iopub.status.busy": "2024-05-07T19:11:44.677954Z",
          "iopub.execute_input": "2024-05-07T19:11:44.678388Z",
          "iopub.status.idle": "2024-05-07T19:11:44.68382Z",
          "shell.execute_reply.started": "2024-05-07T19:11:44.678348Z",
          "shell.execute_reply": "2024-05-07T19:11:44.682764Z"
        },
        "trusted": true,
        "id": "aJIdvh2RmP7T"
      },
      "execution_count": null,
      "outputs": []
    },
    {
      "cell_type": "code",
      "source": [
        "data_raw.loc[mislabeled_indices, :]"
      ],
      "metadata": {
        "execution": {
          "iopub.status.busy": "2024-05-07T19:11:44.685376Z",
          "iopub.execute_input": "2024-05-07T19:11:44.686051Z",
          "iopub.status.idle": "2024-05-07T19:11:44.719405Z",
          "shell.execute_reply.started": "2024-05-07T19:11:44.686012Z",
          "shell.execute_reply": "2024-05-07T19:11:44.717783Z"
        },
        "trusted": true,
        "id": "c97PQS7cmP7X"
      },
      "execution_count": null,
      "outputs": []
    },
    {
      "cell_type": "code",
      "source": [
        "X.shape"
      ],
      "metadata": {
        "execution": {
          "iopub.status.busy": "2024-05-07T19:11:44.721274Z",
          "iopub.execute_input": "2024-05-07T19:11:44.721778Z",
          "iopub.status.idle": "2024-05-07T19:11:44.731539Z",
          "shell.execute_reply.started": "2024-05-07T19:11:44.721736Z",
          "shell.execute_reply": "2024-05-07T19:11:44.730444Z"
        },
        "trusted": true,
        "id": "B7_ArtMgmP7X"
      },
      "execution_count": null,
      "outputs": []
    },
    {
      "cell_type": "code",
      "source": [
        "pca = PCA(n_components=2)\n",
        "data_reduced = pd.DataFrame(pca.fit_transform(data), columns=[\"PC1\", \"PC2\"])"
      ],
      "metadata": {
        "execution": {
          "iopub.status.busy": "2024-05-07T19:11:44.732966Z",
          "iopub.execute_input": "2024-05-07T19:11:44.733417Z",
          "iopub.status.idle": "2024-05-07T19:11:44.797163Z",
          "shell.execute_reply.started": "2024-05-07T19:11:44.733364Z",
          "shell.execute_reply": "2024-05-07T19:11:44.796121Z"
        },
        "trusted": true,
        "id": "luM1CeQJmP7X"
      },
      "execution_count": null,
      "outputs": []
    },
    {
      "cell_type": "code",
      "source": [
        "data_reduced"
      ],
      "metadata": {
        "execution": {
          "iopub.status.busy": "2024-05-07T19:11:44.801161Z",
          "iopub.execute_input": "2024-05-07T19:11:44.801612Z",
          "iopub.status.idle": "2024-05-07T19:11:44.817864Z",
          "shell.execute_reply.started": "2024-05-07T19:11:44.801565Z",
          "shell.execute_reply": "2024-05-07T19:11:44.816407Z"
        },
        "trusted": true,
        "id": "ZfHVs2vQmP7X"
      },
      "execution_count": null,
      "outputs": []
    },
    {
      "cell_type": "code",
      "source": [
        "legendary_indices = data.query(\"Legendary == 1\").index\n",
        "\n",
        "mislabeled_legendary_indices = np.intersect1d(mislabeled_indices, legendary_indices)"
      ],
      "metadata": {
        "execution": {
          "iopub.status.busy": "2024-05-07T19:11:44.820213Z",
          "iopub.execute_input": "2024-05-07T19:11:44.821023Z",
          "iopub.status.idle": "2024-05-07T19:11:44.838405Z",
          "shell.execute_reply.started": "2024-05-07T19:11:44.820969Z",
          "shell.execute_reply": "2024-05-07T19:11:44.83729Z"
        },
        "trusted": true,
        "id": "VTaVFZUqmP7X"
      },
      "execution_count": null,
      "outputs": []
    },
    {
      "cell_type": "code",
      "source": [
        "plt.figure(figsize=(20, 10))\n",
        "\n",
        "plt.scatter(data_reduced['PC1'], data_reduced['PC2'], c='lightgray')\n",
        "plt.scatter(data_reduced.loc[legendary_indices, 'PC1'], data_reduced.loc[legendary_indices, 'PC2'], c='dimgray')\n",
        "plt.scatter(data_reduced.loc[mislabeled_indices, 'PC1'], data_reduced.loc[mislabeled_indices, 'PC2'], c='orchid')\n",
        "plt.scatter(data_reduced.loc[mislabeled_legendary_indices, 'PC1'], data_reduced.loc[mislabeled_legendary_indices, 'PC2'], c='mediumspringgreen')\n",
        "\n",
        "plt.xlabel(\"PC1\")\n",
        "plt.ylabel(\"PC2\")\n",
        "plt.legend(['Non-Legendary', 'Legendary', 'Non-Legendary Misclassified', 'Legendary Misclassified'])\n",
        "plt.title(\"PCA Scatter Plot\")\n",
        "plt.show()"
      ],
      "metadata": {
        "execution": {
          "iopub.status.busy": "2024-05-07T19:11:44.840152Z",
          "iopub.execute_input": "2024-05-07T19:11:44.840847Z",
          "iopub.status.idle": "2024-05-07T19:11:45.177881Z",
          "shell.execute_reply.started": "2024-05-07T19:11:44.8408Z",
          "shell.execute_reply": "2024-05-07T19:11:45.176812Z"
        },
        "trusted": true,
        "id": "GOkLML0ymP7X"
      },
      "execution_count": null,
      "outputs": []
    }
  ]
}